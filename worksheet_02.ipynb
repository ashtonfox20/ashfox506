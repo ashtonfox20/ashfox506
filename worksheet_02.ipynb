{
 "cells": [
  {
   "attachments": {},
   "cell_type": "markdown",
   "metadata": {},
   "source": [
    "# Worksheet 02\n",
    "\n",
    "Name:  Ashton Fox\n",
    "UID: U95686268\n",
    "\n",
    "### Topics\n",
    "\n",
    "- Effective Programming\n",
    "\n",
    "### Effective Programming\n",
    "\n",
    "a) What is a drawback of the top down approach?"
   ]
  },
  {
   "cell_type": "markdown",
   "metadata": {},
   "source": [
    "you won't have runnable code until the very end of development"
   ]
  },
  {
   "cell_type": "markdown",
   "metadata": {},
   "source": [
    "b) What is a drawback of the bottom up approach?"
   ]
  },
  {
   "cell_type": "markdown",
   "metadata": {},
   "source": [
    "Need to know everything that needs to be implemented upfront and ensure that everything is accounted for. Could make functions that never get used"
   ]
  },
  {
   "cell_type": "markdown",
   "metadata": {},
   "source": []
  },
  {
   "cell_type": "markdown",
   "metadata": {},
   "source": [
    "c) What are 3 things you can do to have a better debugging experience?"
   ]
  },
  {
   "cell_type": "markdown",
   "metadata": {},
   "source": [
    "write comments in code to anticipate bugs, Read through your code/walk through it mentally before testing, take breaks"
   ]
  },
  {
   "attachments": {},
   "cell_type": "markdown",
   "metadata": {},
   "source": [
    "d) Follow along with the live coding. You can write your code here:"
   ]
  },
  {
   "cell_type": "code",
   "execution_count": 2,
   "metadata": {},
   "outputs": [
    {
     "ename": "ValueError",
     "evalue": "programmer error",
     "output_type": "error",
     "traceback": [
      "\u001b[0;31m---------------------------------------------------------------------------\u001b[0m",
      "\u001b[0;31mValueError\u001b[0m                                Traceback (most recent call last)",
      "\u001b[1;32m/Users/killua/Desktop/CS506/Worksheets/worksheet_02.ipynb Cell 9\u001b[0m line \u001b[0;36m9\n\u001b[1;32m     <a href='vscode-notebook-cell:/Users/killua/Desktop/CS506/Worksheets/worksheet_02.ipynb#X11sZmlsZQ%3D%3D?line=90'>91</a>\u001b[0m                 \u001b[39mself\u001b[39m\u001b[39m.\u001b[39munset_queen_on(row)\n\u001b[1;32m     <a href='vscode-notebook-cell:/Users/killua/Desktop/CS506/Worksheets/worksheet_02.ipynb#X11sZmlsZQ%3D%3D?line=93'>94</a>\u001b[0m my_board \u001b[39m=\u001b[39m Board()\n\u001b[0;32m---> <a href='vscode-notebook-cell:/Users/killua/Desktop/CS506/Worksheets/worksheet_02.ipynb#X11sZmlsZQ%3D%3D?line=94'>95</a>\u001b[0m my_board\u001b[39m.\u001b[39;49msearch()\n",
      "\u001b[1;32m/Users/killua/Desktop/CS506/Worksheets/worksheet_02.ipynb Cell 9\u001b[0m line \u001b[0;36m7\n\u001b[1;32m     <a href='vscode-notebook-cell:/Users/killua/Desktop/CS506/Worksheets/worksheet_02.ipynb#X11sZmlsZQ%3D%3D?line=71'>72</a>\u001b[0m row \u001b[39m-\u001b[39m\u001b[39m=\u001b[39m \u001b[39m1\u001b[39m\n\u001b[1;32m     <a href='vscode-notebook-cell:/Users/killua/Desktop/CS506/Worksheets/worksheet_02.ipynb#X11sZmlsZQ%3D%3D?line=72'>73</a>\u001b[0m \u001b[39mif\u001b[39;00m row \u001b[39m>\u001b[39m\u001b[39m=\u001b[39m \u001b[39m0\u001b[39m:\n\u001b[0;32m---> <a href='vscode-notebook-cell:/Users/killua/Desktop/CS506/Worksheets/worksheet_02.ipynb#X11sZmlsZQ%3D%3D?line=73'>74</a>\u001b[0m     col \u001b[39m=\u001b[39m \u001b[39mself\u001b[39;49m\u001b[39m.\u001b[39;49mget_queen_on(row \u001b[39m-\u001b[39;49m \u001b[39m1\u001b[39;49m)\n\u001b[1;32m     <a href='vscode-notebook-cell:/Users/killua/Desktop/CS506/Worksheets/worksheet_02.ipynb#X11sZmlsZQ%3D%3D?line=74'>75</a>\u001b[0m     \u001b[39mself\u001b[39m\u001b[39m.\u001b[39munset_queen_on(row\u001b[39m-\u001b[39m\u001b[39m1\u001b[39m)\n\u001b[1;32m     <a href='vscode-notebook-cell:/Users/killua/Desktop/CS506/Worksheets/worksheet_02.ipynb#X11sZmlsZQ%3D%3D?line=75'>76</a>\u001b[0m     col \u001b[39m+\u001b[39m\u001b[39m=\u001b[39m \u001b[39m1\u001b[39m\n",
      "\u001b[1;32m/Users/killua/Desktop/CS506/Worksheets/worksheet_02.ipynb Cell 9\u001b[0m line \u001b[0;36m6\n\u001b[1;32m     <a href='vscode-notebook-cell:/Users/killua/Desktop/CS506/Worksheets/worksheet_02.ipynb#X11sZmlsZQ%3D%3D?line=60'>61</a>\u001b[0m     \u001b[39mif\u001b[39;00m \u001b[39mself\u001b[39m\u001b[39m.\u001b[39mboard[row][col] \u001b[39m==\u001b[39m \u001b[39m\"\u001b[39m\u001b[39mQ\u001b[39m\u001b[39m\"\u001b[39m:\n\u001b[1;32m     <a href='vscode-notebook-cell:/Users/killua/Desktop/CS506/Worksheets/worksheet_02.ipynb#X11sZmlsZQ%3D%3D?line=61'>62</a>\u001b[0m         \u001b[39mreturn\u001b[39;00m col\n\u001b[0;32m---> <a href='vscode-notebook-cell:/Users/killua/Desktop/CS506/Worksheets/worksheet_02.ipynb#X11sZmlsZQ%3D%3D?line=62'>63</a>\u001b[0m \u001b[39mraise\u001b[39;00m \u001b[39mValueError\u001b[39;00m(\u001b[39m\"\u001b[39m\u001b[39mprogrammer error\u001b[39m\u001b[39m\"\u001b[39m)\n",
      "\u001b[0;31mValueError\u001b[0m: programmer error"
     ]
    }
   ],
   "source": [
    "class Board:\n",
    "    def __init__(self):\n",
    "        self.blank = \"_\"\n",
    "        self.board = [[self.blank for _ in range(8)] for _ in range(8)]\n",
    "\n",
    "    def __repr__(self):\n",
    "        res = \" \"\n",
    "        for row in self.board:\n",
    "            for col in row:\n",
    "                res += col + \" \"\n",
    "            res += \"\\n \"\n",
    "        return res\n",
    "    \n",
    "    def is_queen(self, row, col):\n",
    "        return self.board[row][col] == \"Q\"\n",
    "    \n",
    "    def is_legal_row(self, row, col):\n",
    "        for j in range(len(self.board)):\n",
    "            if self.is_queen(row,j):\n",
    "                return False\n",
    "        return True\n",
    "\n",
    "    def is_legal(self, row, col):\n",
    "        if not self.is_legal_row(row, col):\n",
    "            return False\n",
    "        if not self.is_legal_col(row, col):\n",
    "            return False\n",
    "        if not self.is_legal_diag(row, col):\n",
    "            return False\n",
    "        return True\n",
    "    \n",
    "    def is_legal_col(self, row, col):\n",
    "        for i in range(len(self.board)):\n",
    "            if self.board[i][col] == \"Q\":\n",
    "                return False\n",
    "        return True\n",
    "    \n",
    "    def is_on_board(self, row, col):\n",
    "        return row >= 0 and row < 8 and col >= 0 and col < 8\n",
    "    \n",
    "    def is_legal_diag(self, row, col):\n",
    "        for i in range(len(self.board)):\n",
    "            if self.is_on_board(row - i, col - i) and self.is_queen(row - i,col - i):\n",
    "                return False\n",
    "            if self.is_on_board(row + i, col - i) and self.is_queen(row + i,col - i):\n",
    "                return False\n",
    "            if self.is_on_board(row - i, col + i) and self.is_queen(row - i,col + i):\n",
    "                return False\n",
    "            if self.is_on_board(row + i, col + i) and self.is_queen(row + i,col + i):\n",
    "                return False\n",
    "        return True\n",
    "    \n",
    "    def set_queen_at(self, row, col):\n",
    "        self.board[row][col] = \"Q\"\n",
    "\n",
    "    def unset_queen_on(self, row):\n",
    "        self.board [row] = [\"_\" for _ in range(8)]\n",
    "    \n",
    "    def get_queen_on(self, row):\n",
    "        for col in range(len(self.board)):\n",
    "            if self.board[row][col] == \"Q\":\n",
    "                return col\n",
    "        raise ValueError(\"programmer error\")\n",
    "    \n",
    "    def search(self):\n",
    "        row = 0\n",
    "        col = 0\n",
    "        nsols = 0\n",
    "        while row >= 0:\n",
    "            if row <8:\n",
    "                if col >= 8:\n",
    "                    row -= 1\n",
    "                    if row >= 0:\n",
    "                        col = self.get_queen_on(row - 1)\n",
    "                        self.unset_queen_on(row-1)\n",
    "                        col += 1\n",
    "                        row -= 1\n",
    "                else:\n",
    "                    if self.is_legal(row, col):\n",
    "                        self.set_queen_at(row, col)\n",
    "                        row += 1\n",
    "                        col = 0\n",
    "                    else:\n",
    "                        col += 1\n",
    "            else:\n",
    "                nsols += 1\n",
    "                print(\"found solution number \", nsols)\n",
    "                print(self)\n",
    "                row -= 1\n",
    "                col = self.get_queen_on(row) + 1\n",
    "                self.unset_queen_on(row)\n",
    "    \n",
    "\n",
    "my_board = Board()\n",
    "my_board.search()"
   ]
  }
 ],
 "metadata": {
  "kernelspec": {
   "display_name": "Python 3",
   "language": "python",
   "name": "python3"
  },
  "language_info": {
   "codemirror_mode": {
    "name": "ipython",
    "version": 3
   },
   "file_extension": ".py",
   "mimetype": "text/x-python",
   "name": "python",
   "nbconvert_exporter": "python",
   "pygments_lexer": "ipython3",
   "version": "3.11.4"
  },
  "orig_nbformat": 4,
  "vscode": {
   "interpreter": {
    "hash": "76ca05dc3ea24b2e3b98cdb7774adfbb40773424bf5109b477fd793f623715af"
   }
  }
 },
 "nbformat": 4,
 "nbformat_minor": 2
}
