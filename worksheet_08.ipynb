{
 "cells": [
  {
   "attachments": {},
   "cell_type": "markdown",
   "metadata": {},
   "source": [
    "# Worksheet 08\n",
    "\n",
    "Name:  Ashton Fox\n",
    "UID: U95686268\n",
    "\n",
    "### Topics\n",
    "\n",
    "- Soft Clustering\n",
    "- Clustering Aggregation\n",
    "\n",
    "### Probability Review\n",
    "\n",
    "Read through [the following](https://medium.com/@gallettilance/overview-of-probability-3272b72c82c8)\n",
    "\n",
    "### Soft Clustering\n",
    "\n",
    "We generate 10 data points that come from a normal distribution with mean 5 and variance 1."
   ]
  },
  {
   "cell_type": "code",
   "execution_count": 2,
   "metadata": {},
   "outputs": [
    {
     "name": "stdout",
     "output_type": "stream",
     "text": [
      "[3.971263591595482, 5.4287981496701905, 4.74461980784747, 5.921373727448982, 3.645173079537715, 5.198457204912151, 4.415920041961826, 4.545471125639444, 2.517945154148651, 5.922548718881171]\n"
     ]
    }
   ],
   "source": [
    "import random\n",
    "import numpy as np\n",
    "from sklearn.cluster import KMeans\n",
    "\n",
    "mean = 5\n",
    "stdev = 1\n",
    "\n",
    "s1 = np.random.normal(mean, stdev, 10).tolist()\n",
    "print(s1)"
   ]
  },
  {
   "cell_type": "markdown",
   "metadata": {},
   "source": [
    "a) Generate 10 more data points, this time coming from a normal distribution with mean 8 and variance 1."
   ]
  },
  {
   "cell_type": "code",
   "execution_count": 3,
   "metadata": {},
   "outputs": [
    {
     "name": "stdout",
     "output_type": "stream",
     "text": [
      "[6.089138065805974, 7.875133762888543, 8.5789195338976, 9.062925985991638, 6.7285813095114335, 6.639478394815296, 7.317085268302237, 7.517137490062556, 8.004031365141765, 7.836424813736746]\n"
     ]
    }
   ],
   "source": [
    "mean = 8\n",
    "var = 1\n",
    "s2 = np.random.normal( mean , var**2 , 10 ).tolist()\n",
    "print(s2)"
   ]
  },
  {
   "cell_type": "markdown",
   "metadata": {},
   "source": [
    "b) Flip a fair coin 10 times. If the coin lands on H, then pick the last data point of `c1` and remove it from `c1`, if T then pick the last data point from `c2` and remove it from `c2`. Add these 10 points to a list called `data`."
   ]
  },
  {
   "cell_type": "code",
   "execution_count": 4,
   "metadata": {},
   "outputs": [
    {
     "name": "stdout",
     "output_type": "stream",
     "text": [
      "[5.922548718881171, 2.517945154148651, 4.545471125639444, 7.836424813736746, 8.004031365141765, 4.415920041961826, 7.517137490062556, 7.317085268302237, 5.198457204912151, 3.645173079537715]\n"
     ]
    }
   ],
   "source": [
    "data = []\n",
    "for i in range(10):\n",
    "    # flip coin\n",
    "    coin_output = random.choice([0, 1])\n",
    "    if coin_output == 0:\n",
    "        p1 = s1.pop()\n",
    "        data.append(p1)\n",
    "    else:\n",
    "        p2 = s2.pop()\n",
    "        data.append(p2)\n",
    "print(data)"
   ]
  },
  {
   "cell_type": "markdown",
   "metadata": {},
   "source": [
    "c) This `data` is a Gaussian Mixture Distribution with 2 mixture components. Over the next few questions we will walk through the GMM algorithm to see if we can uncover the parameters we used to generate this data. First, please list all these parameters of the GMM that created `data` and the values we know they have."
   ]
  },
  {
   "cell_type": "markdown",
   "metadata": {},
   "source": [
    "prior probability (1/2) of selecting data from either component, mean and variance"
   ]
  },
  {
   "cell_type": "markdown",
   "metadata": {},
   "source": [
    "d) Let's assume there are two mixture components (note: we could plot the data and make the observation that there are two clusters). The EM algorithm asks us to start with a random `mean_j`, `variance_j`, `P(S_j)` for each component j. One method we could use to find sensible values for these is to apply K means with k=2 here.\n",
    "\n",
    "1. the centroids would be the estimates of the `mean_j`\n",
    "2. the intra-cluster variance could be the estimate of `variance_j`\n",
    "3. the proportion of points in each cluster could be the estimate of `P(S_j)`\n",
    "\n",
    "Go through this process and list the parameter estimates it gives. Are they close or far from the true values?"
   ]
  },
  {
   "cell_type": "code",
   "execution_count": 5,
   "metadata": {},
   "outputs": [
    {
     "name": "stdout",
     "output_type": "stream",
     "text": [
      "[2.517945154148651, 4.545471125639444, 4.415920041961826, 5.198457204912151, 3.645173079537715]\n",
      "[5.922548718881171, 7.836424813736746, 8.004031365141765, 7.517137490062556, 7.317085268302237]\n",
      "P(S_1) = 0.5,  P(S_2) = 0.5\n",
      "mean_1 = 4.064593321239957,  mean_2 = 7.319445531224895\n",
      "var_1 = 0.8416710252139813,  var_2 = 0.5452667456624631\n"
     ]
    },
    {
     "name": "stderr",
     "output_type": "stream",
     "text": [
      "/Library/Frameworks/Python.framework/Versions/3.11/lib/python3.11/site-packages/sklearn/cluster/_kmeans.py:1416: FutureWarning: The default value of `n_init` will change from 10 to 'auto' in 1.4. Set the value of `n_init` explicitly to suppress the warning\n",
      "  super()._check_params_vs_input(X, default_n_init=10)\n"
     ]
    }
   ],
   "source": [
    "kmeans = KMeans(2, init='k-means++').fit(X=np.array(data).reshape(-1, 1))\n",
    "\n",
    "s1 = [x[0] for x in filter(lambda x: x[1] == 0, zip(data, kmeans.labels_))]\n",
    "print(s1)\n",
    "s2 = [x[0] for x in filter(lambda x: x[1] == 1, zip(data, kmeans.labels_))]\n",
    "print(s2)\n",
    "\n",
    "prob_s = [ len(s1) / (len(s1) + len(s2)) , len(s2)/(len(s1) + len(s2)) ]\n",
    "mean = [ sum(s1)/len(s1) , sum(s2)/len(s2) ]\n",
    "var = [ sum(map(lambda x : (x - mean[0])**2, s1)) / len(s1) , sum(map(lambda x: (x-mean[1])**2, s2)) /len(s2) ]\n",
    "\n",
    "print(\"P(S_1) = \" + str(prob_s[0]) + \",  P(S_2) = \" + str(prob_s[1]))\n",
    "print(\"mean_1 = \" + str(mean[0]) + \",  mean_2 = \" + str(mean[1]))\n",
    "print(\"var_1 = \" + str(var[0]) + \",  var_2 = \" + str(var[1]))"
   ]
  },
  {
   "cell_type": "markdown",
   "metadata": {},
   "source": []
  },
  {
   "cell_type": "markdown",
   "metadata": {},
   "source": [
    "e) For each data point, compute `P(S_j | X_i)`. Comment on which cluster you think each point belongs to based on the estimated probabilities. How does that compare to the truth?"
   ]
  },
  {
   "cell_type": "code",
   "execution_count": 6,
   "metadata": {},
   "outputs": [
    {
     "name": "stdout",
     "output_type": "stream",
     "text": [
      "point =  5.922548718881171\n",
      "probability of observing that point if it came from cluster 0 =  0.04146054461128171\n",
      "probability of observing that point if it came from cluster 1 =  0.027487593728191474\n",
      "point =  2.517945154148651\n",
      "probability of observing that point if it came from cluster 0 =  0.0876025514646408\n",
      "probability of observing that point if it came from cluster 1 =  1.0624582483142964e-17\n",
      "point =  4.545471125639444\n",
      "probability of observing that point if it came from cluster 0 =  0.40261058541388206\n",
      "probability of observing that point if it came from cluster 1 =  1.754841773383634e-06\n",
      "point =  7.836424813736746\n",
      "probability of observing that point if it came from cluster 0 =  2.0648465554671758e-05\n",
      "probability of observing that point if it came from cluster 1 =  0.4667666456339912\n",
      "point =  8.004031365141765\n",
      "probability of observing that point if it came from cluster 0 =  8.293032335097626e-06\n",
      "probability of observing that point if it came from cluster 1 =  0.33266929040497695\n",
      "point =  4.415920041961826\n",
      "probability of observing that point if it came from cluster 0 =  0.43444304297909847\n",
      "probability of observing that point if it came from cluster 1 =  5.09377612468723e-07\n",
      "point =  7.517137490062556\n",
      "probability of observing that point if it came from cluster 0 =  0.00010518168321648906\n",
      "probability of observing that point if it came from cluster 1 =  0.6851049237207646\n",
      "point =  7.317085268302237\n",
      "probability of observing that point if it came from cluster 0 =  0.0002710835417066864\n",
      "probability of observing that point if it came from cluster 1 =  0.7316392317678851\n",
      "point =  5.198457204912151\n",
      "probability of observing that point if it came from cluster 0 =  0.19128518102513015\n",
      "probability of observing that point if it came from cluster 1 =  0.00037906613599839636\n",
      "point =  3.645173079537715\n",
      "probability of observing that point if it came from cluster 0 =  0.41864450798646613\n",
      "probability of observing that point if it came from cluster 1 =  1.0098424139757632e-10\n",
      "5.922548718881171\n",
      "Probability of coming from S_1 = 0.601329428318231\n",
      "Probability of coming from S_2 = 0.3986705716817691\n",
      "\n",
      "2.517945154148651\n",
      "Probability of coming from S_1 = 0.9999999999999999\n",
      "Probability of coming from S_2 = 1.2128165567679137e-16\n",
      "\n",
      "4.545471125639444\n",
      "Probability of coming from S_1 = 0.9999956413611856\n",
      "Probability of coming from S_2 = 4.358638814372466e-06\n",
      "\n",
      "7.836424813736746\n",
      "Probability of coming from S_1 = 4.423527764290071e-05\n",
      "Probability of coming from S_2 = 0.9999557647223571\n",
      "\n",
      "8.004031365141765\n",
      "Probability of coming from S_1 = 2.492813687478381e-05\n",
      "Probability of coming from S_2 = 0.9999750718631253\n",
      "\n",
      "4.415920041961826\n",
      "Probability of coming from S_1 = 0.9999988275171545\n",
      "Probability of coming from S_2 = 1.1724828454825025e-06\n",
      "\n",
      "7.517137490062556\n",
      "Probability of coming from S_1 = 0.00015350281962709354\n",
      "Probability of coming from S_2 = 0.9998464971803729\n",
      "\n",
      "7.317085268302237\n",
      "Probability of coming from S_1 = 0.0003703780859981736\n",
      "Probability of coming from S_2 = 0.9996296219140018\n",
      "\n",
      "5.198457204912151\n",
      "Probability of coming from S_1 = 0.998022238671985\n",
      "Probability of coming from S_2 = 0.00197776132801504\n",
      "\n",
      "3.645173079537715\n",
      "Probability of coming from S_1 = 0.9999999997587828\n",
      "Probability of coming from S_2 = 2.412171650332071e-10\n",
      "\n"
     ]
    }
   ],
   "source": [
    "from scipy.stats import norm\n",
    "\n",
    "prob_s0_x = [] # P(S_0 | X_i)\n",
    "prob_s1_x = [] # P(S_1 | X_i)\n",
    "prob_x = [] # P(X_i)\n",
    "\n",
    "k = 2\n",
    "\n",
    "for p in data:\n",
    "    print(\"point = \", p)\n",
    "    pdf_i = []\n",
    "\n",
    "    for j in range(k):\n",
    "        # P(X_i | S_j)\n",
    "        pdf_i.append(norm.pdf(p, mean[j], var[j]))\n",
    "        print(\"probability of observing that point if it came from cluster \" + str(j) + \" = \", pdf_i[j])\n",
    "        # P(S_j) already computed\n",
    "        prob_s[j]\n",
    "\n",
    "    # P(X_i) = P(S_0)P(X_i | S_0) + P(S_1)P(X_i | S_1)\n",
    "    prob_x = prob_s[0] * pdf_i[0] + prob_s[1] * pdf_i[1]\n",
    "\n",
    "    # P(S_j | X_i) = P(X_i | S_j)P(S_j) / P(X_i)\n",
    "    prob_s0_x.append(pdf_i[0] * prob_s[0] / prob_x )\n",
    "    prob_s1_x.append(pdf_i[1] * prob_s[1] / prob_x )\n",
    "\n",
    "probs = zip(data, prob_s0_x, prob_s1_x)\n",
    "for p in probs:\n",
    "    print(p[0])\n",
    "    print(\"Probability of coming from S_1 = \" + str(p[1]))\n",
    "    print(\"Probability of coming from S_2 = \" + str(p[2]))\n",
    "    print()\n"
   ]
  },
  {
   "cell_type": "markdown",
   "metadata": {},
   "source": [
    "f) Having computed `P(S_j | X_i)`, update the estimates of `mean_j`, `var_j`, and `P(S_j)`. How different are these values from the original ones you got from K means? briefly comment."
   ]
  },
  {
   "cell_type": "code",
   "execution_count": 8,
   "metadata": {},
   "outputs": [
    {
     "name": "stdout",
     "output_type": "stream",
     "text": [
      "P(S_1) = 0.5,  P(S_2) = 0.5\n",
      "mean_1 = 4.264059400985733,  mean_2 = 7.509378235532319\n",
      "var_1 = 1.0831475288431125,  var_2 = 0.31888843980603676\n"
     ]
    }
   ],
   "source": [
    "prob_c = [sum(prob_s0_x)/ len(prob_s0_x), ... ]\n",
    "mean = [sum([x[0] * x[1] for x in zip(prob_s0_x, data)]) / sum(prob_s0_x), \n",
    "        sum([x[0] * x[1] for x in zip(prob_s1_x, data)]) / sum(prob_s1_x) ]\n",
    "var = [sum([x[0] * (x[1] - mean[0]) ** 2 for x in zip(prob_s0_x, data)]) / sum(prob_s0_x),\n",
    "       sum([x[0] * (x[1] - mean[1]) ** 2 for x in zip(prob_s1_x, data)]) / sum(prob_s1_x)]\n",
    "\n",
    "print(\"P(S_1) = \" + str(prob_s[0]) + \",  P(S_2) = \" + str(prob_s[1]))\n",
    "print(\"mean_1 = \" + str(mean[0]) + \",  mean_2 = \" + str(mean[1]))\n",
    "print(\"var_1 = \" + str(var[0]) + \",  var_2 = \" + str(var[1]))"
   ]
  },
  {
   "cell_type": "markdown",
   "metadata": {},
   "source": []
  },
  {
   "cell_type": "markdown",
   "metadata": {},
   "source": [
    "g) Update `P(S_j | X_i)`. Comment on any differences or lack thereof you observe."
   ]
  },
  {
   "cell_type": "code",
   "execution_count": 12,
   "metadata": {},
   "outputs": [
    {
     "name": "stdout",
     "output_type": "stream",
     "text": [
      "point =  5.922548718881171\n",
      "probability of observing that point if it came from cluster 0 =  0.11405671805579913\n",
      "probability of observing that point if it came from cluster 1 =  5.251762922035689e-06\n"
     ]
    },
    {
     "ename": "TypeError",
     "evalue": "unsupported operand type(s) for *: 'ellipsis' and 'float'",
     "output_type": "error",
     "traceback": [
      "\u001b[0;31m---------------------------------------------------------------------------\u001b[0m",
      "\u001b[0;31mTypeError\u001b[0m                                 Traceback (most recent call last)",
      "\u001b[1;32m/Users/killua/Desktop/CS506/Worksheets/worksheet_08.ipynb Cell 18\u001b[0m line \u001b[0;36m1\n\u001b[1;32m     <a href='vscode-notebook-cell:/Users/killua/Desktop/CS506/Worksheets/worksheet_08.ipynb#X23sZmlsZQ%3D%3D?line=15'>16</a>\u001b[0m     prob_c[j]\n\u001b[1;32m     <a href='vscode-notebook-cell:/Users/killua/Desktop/CS506/Worksheets/worksheet_08.ipynb#X23sZmlsZQ%3D%3D?line=17'>18</a>\u001b[0m \u001b[39m# P(X_i) = P(C_0)P(X_i | C_0) + P(C_1)P(X_i | C_1)\u001b[39;00m\n\u001b[0;32m---> <a href='vscode-notebook-cell:/Users/killua/Desktop/CS506/Worksheets/worksheet_08.ipynb#X23sZmlsZQ%3D%3D?line=18'>19</a>\u001b[0m prob_x \u001b[39m=\u001b[39m prob_c[\u001b[39m0\u001b[39m] \u001b[39m*\u001b[39m pdf_i[\u001b[39m0\u001b[39m] \u001b[39m+\u001b[39m prob_c[\u001b[39m1\u001b[39;49m] \u001b[39m*\u001b[39;49m pdf_i[\u001b[39m1\u001b[39;49m]\n\u001b[1;32m     <a href='vscode-notebook-cell:/Users/killua/Desktop/CS506/Worksheets/worksheet_08.ipynb#X23sZmlsZQ%3D%3D?line=20'>21</a>\u001b[0m \u001b[39m# P(C_j | X_i) = P(X_i | C_j)P(C_j) / P(X_i)\u001b[39;00m\n\u001b[1;32m     <a href='vscode-notebook-cell:/Users/killua/Desktop/CS506/Worksheets/worksheet_08.ipynb#X23sZmlsZQ%3D%3D?line=21'>22</a>\u001b[0m prob_s0_x\u001b[39m.\u001b[39mappend(pdf_i[\u001b[39m0\u001b[39m] \u001b[39m*\u001b[39m prob_c[\u001b[39m0\u001b[39m] \u001b[39m/\u001b[39m prob_x )\n",
      "\u001b[0;31mTypeError\u001b[0m: unsupported operand type(s) for *: 'ellipsis' and 'float'"
     ]
    }
   ],
   "source": [
    "prob_s0_x = [] # P(C_0 | X_i)\n",
    "prob_s1_x = [] # P(C_1 | X_i)\n",
    "prob_x = [] # P(X_i)\n",
    "\n",
    "k = 2\n",
    "\n",
    "for p in data:\n",
    "    print(\"point = \", p)\n",
    "    pdf_i = []\n",
    "\n",
    "    for j in range(k):\n",
    "        # P(X_i | C_j)\n",
    "        pdf_i.append(norm.pdf(p, mean[j], var[j]))\n",
    "        print(\"probability of observing that point if it came from cluster \" + str(j) + \" = \", pdf_i[j])\n",
    "        # P(C_j) already computed\n",
    "        prob_c[j]\n",
    "\n",
    "    # P(X_i) = P(C_0)P(X_i | C_0) + P(C_1)P(X_i | C_1)\n",
    "    prob_x = prob_c[0] * pdf_i[0] + prob_c[1] * pdf_i[1]\n",
    "\n",
    "    # P(C_j | X_i) = P(X_i | C_j)P(C_j) / P(X_i)\n",
    "    prob_s0_x.append(pdf_i[0] * prob_c[0] / prob_x )\n",
    "    prob_s1_x.append(pdf_i[1] * prob_c[1] / prob_x )\n",
    "\n",
    "probs = zip(data, prob_s0_x, prob_s1_x)\n",
    "for p in probs:\n",
    "    print(p[0])\n",
    "    print(\"Probability of coming from C_1 = \" + str(p[1]))\n",
    "    print(\"Probability of coming from C_2 = \" + str(p[2]))\n",
    "    print()"
   ]
  },
  {
   "cell_type": "markdown",
   "metadata": {},
   "source": [
    "probability becomes a bit more certain than in c1"
   ]
  },
  {
   "cell_type": "markdown",
   "metadata": {},
   "source": [
    "h) Use `P(S_j | X_i)` to create a hard assignment - label each point as belonging to a specific cluster (0 or 1)"
   ]
  },
  {
   "cell_type": "code",
   "execution_count": 10,
   "metadata": {},
   "outputs": [
    {
     "name": "stdout",
     "output_type": "stream",
     "text": [
      "points in cluster 0 : [5.922548718881171, 2.517945154148651, 4.545471125639444, 4.415920041961826, 5.198457204912151, 3.645173079537715]\n",
      "points in cluster 1 : [7.836424813736746, 8.004031365141765, 7.517137490062556, 7.317085268302237]\n"
     ]
    }
   ],
   "source": [
    "assignments = [[], []]\n",
    "for x in zip(data, prob_s0_x):\n",
    "    p = x[1]\n",
    "    d = x[0]\n",
    "    if random.random() <= p:\n",
    "        assignments[0].append(d)\n",
    "    else:\n",
    "        assignments[1].append(d)\n",
    "print(f\"points in cluster 0 : {assignments[0]}\\npoints in cluster 1 : {assignments[1]}\")"
   ]
  }
 ],
 "metadata": {
  "kernelspec": {
   "display_name": "Python 3",
   "language": "python",
   "name": "python3"
  },
  "language_info": {
   "codemirror_mode": {
    "name": "ipython",
    "version": 3
   },
   "file_extension": ".py",
   "mimetype": "text/x-python",
   "name": "python",
   "nbconvert_exporter": "python",
   "pygments_lexer": "ipython3",
   "version": "3.11.4"
  },
  "orig_nbformat": 4,
  "vscode": {
   "interpreter": {
    "hash": "e7370f93d1d0cde622a1f8e1c04877d8463912d04d973331ad4851f04de6915a"
   }
  }
 },
 "nbformat": 4,
 "nbformat_minor": 2
}
